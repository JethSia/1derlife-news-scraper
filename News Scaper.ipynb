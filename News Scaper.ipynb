{
 "cells": [
  {
   "cell_type": "markdown",
   "metadata": {},
   "source": [
    "# News Scraper for The Economist"
   ]
  },
  {
   "cell_type": "markdown",
   "metadata": {},
   "source": [
    "## Install Modules\n",
    "#### Run only once, no need to run when previous tries are already successful."
   ]
  },
  {
   "cell_type": "code",
   "execution_count": null,
   "metadata": {
    "scrolled": true
   },
   "outputs": [],
   "source": [
    "import os\n",
    "os.system(\"pip install -r requirements.txt\")"
   ]
  },
  {
   "cell_type": "markdown",
   "metadata": {},
   "source": [
    "## Main Program"
   ]
  },
  {
   "cell_type": "code",
   "execution_count": 1,
   "metadata": {},
   "outputs": [],
   "source": [
    "import nltk\n",
    "from newspaper import Article\n",
    "import requests\n",
    "import bs4\n",
    "from datetime import date\n",
    "import pandas as pd"
   ]
  },
  {
   "cell_type": "code",
   "execution_count": 2,
   "metadata": {
    "scrolled": true
   },
   "outputs": [
    {
     "name": "stdout",
     "output_type": "stream",
     "text": [
      "Topic: Green technology\n",
      "How many pages do you want to scrape (1-10): 2\n"
     ]
    },
    {
     "name": "stderr",
     "output_type": "stream",
     "text": [
      "[nltk_data] Downloading package punkt to C:\\Users\\Jeth\n",
      "[nltk_data]     Sia\\AppData\\Roaming\\nltk_data...\n",
      "[nltk_data]   Package punkt is already up-to-date!\n"
     ]
    },
    {
     "name": "stdout",
     "output_type": "stream",
     "text": [
      "\n",
      "Date: 2020-11-17 \n",
      "Title: Tech must help combat climate change, says Sundar Pichai \n",
      "About: First, as science tells us that we have a decade to reduce emissions dramatically or face the worst impacts of climate change, many of those impacts have already arrived at our door. From the historic and deadly wildfires in Australia and California, to severe flooding around the world, there is no denying that climate change is already disrupting our daily lives. At the same time, support for climate action has never been stronger—from Generation Z’s solutions-oriented mindset, to political support that increasingly crosses party lines, to Europe’s large-scale ambition to become the first ­carbon-neutral continent, society is ever more unified against the threat of climate change. \n",
      "\n",
      "\n",
      "Date: 2010-03-13 \n",
      "Title: The green machine \n",
      "About: THE Roding Roadster, a sports car unveiled at last September's Frankfurt motor show, has a powerful motor and lightweight construction that promise a thrilling ride. But at Munich's Technical University (TUM), which the Roding's designers attended, there is even more buzz about the Tesla, a battery-powered car from California. It shows that electro-mobility “could be fast and fun”, says Markus Lienkamp, who teaches car technology at TUM. Annoyingly, Tesla opened a dealership in Munich on BMW's doorstep. \n",
      "\n",
      "\n",
      "Date: 2009-11-13 \n",
      "Title: Asia's green-tech rivals \n",
      "About: The battle lines are being drawn in Asia over green technologies, as governments adapt their tradition of state influence on industry for an era in which eco-friendly products may spell export success. In China, Japan, South Korea and elsewhere, a big portion of fiscal-stimulus measures is dedicated to green projects. It is seen as a way to create new jobs, cut carbon emissions at home—and sell products abroad. \n",
      "\n",
      "\n",
      "Date: 2018-03-15 \n",
      "Title: China is rapidly developing its clean-energy technology \n",
      "About: WHEN IT COMES to energy, no country generates such bittersweet superlatives as China. It is the world’s largest consumer of coal and the second-largest of oil, after America. It has the largest power-generation capacity, by a wide margin. It also produces more carbon dioxide than any other country. \n",
      "\n",
      "\n",
      "Date: 2014-03-08 \n",
      "Title: Red light, green light \n",
      "About: The timing could not have been better, then, for the launch of a firm devoted to the manufacture of greener engines. The same day EcoMotors, a startup backed by Bill Gates and Khosla Ventures (supported by Vinod Khosla, a Californian venture capitalist), unveiled its joint venture with a division of China FAW Group, a local carmaker. The Chinese partner vowed to spend more than $200m on a factory in Shanxi, a northern province, that will produce 100,000 of the new engines a year. \n",
      "\n",
      "\n",
      "Date: 2008-12-06 \n",
      "Title: Masdar plan \n",
      "About: What is more, Abu Dhabi, the biggest of the country's seven princely city-states, has a huge vested interest in the continued domination of the world economy by fossil fuels. It sits atop some 8% of the world's proven reserves of oil. At current rates of extraction, the oil will last for another 92 years. So it is with some scepticism that the world has greeted Abu Dhabi's plans to reinvent itself as a crucible of greenery. \n",
      "\n",
      "\n",
      "Date: 2011-03-12 \n",
      "Title: Betting on green \n",
      "About: Mr Khosla has a different plan to save the planet. He is investing over $1 billion of his clients' money in “black swans”—ideas with the potential for sudden jumps in technology that promise huge environmental benefits, easy scalability and rapid payback. The catch? Mr Khosla expects nine out of ten of his investments to fail. \n",
      "\n",
      "\n",
      "Date: 2012-10-19 \n",
      "Title: Maybe the playing field needs leveling \n",
      "About: The biggest blow to green tech has come from the marketplace itself. Fossil fuel technology has advanced more quickly than renewables technology. People used to worry that the world would soon run out of oil, but few worry about that now. Shale gas, meanwhile, has become the current hot, revolutionary fuel of the future... Global warming is still real. Green technology is still important. Personally, I’d support a carbon tax to give it a boost. But he who lives by the subsidy dies by the subsidy. Government planners should not be betting on what technologies will develop fastest. They should certainly not be betting on individual companies. \n",
      "\n",
      "\n",
      "Date: 2021-06-07 \n",
      "Title: “He came to power promising grand things; really what he’s done is polarise the country”—Mexico votes \n",
      "About: THE RUN-UP to the country’s largest-ever election has been bloody; the aftermath will set the tone for President Andrés Manuel López Obrador, whose record so far is woeful. Our analysis of listed green-technology firms reveals striking growth—but as with any tech-stock spike, it is worth asking whether it is all a bubble. And a look at two missions heading to Venus. Runtime: 21min \n",
      "\n",
      "\n",
      "Date: 2009-12-30 \n",
      "Title: Waiting for a green light \n",
      "About: It's still on the loose \n",
      "\n",
      "\n",
      "Date: 2012-03-03 \n",
      "Title: Breathing difficulties \n",
      "About: The situation is about to get worse. The EU is in the process of selling an additional 300m permits to raise cash for green energy projects, adding to oversupply. It is also about to introduce a new regulation on energy efficiency, which will further reduce emissions and which was not factored into the current cap. Matthew Gray of Jefferies, an investment bank, reckons that by 2020 the ETS will have an accumulated surplus of 845m permits, against a planned cap that year of 1.8 billion permits. \n",
      "\n",
      "\n",
      "Date: 2020-03-14 \n",
      "Title: Letters to the editor \n",
      "About: Feeling the Bern \n",
      "\n",
      "\n",
      "Date: 2007-07-19 \n",
      "Title: Green shoots \n",
      "About: The pollution that has resulted from China's growth is a huge problem, but to investors it presents an enormous opportunity. Venture-capital investment in clean tech in China is picking up, increasing by 147% from $170m in 2005 to $420m last year, according to the Cleantech Group, an industry research body. Most of this investment was in solar energy, a booming field in which several Chinese firms have gone public in the past year. But though China has now become the world's third-largest manufacturer of solar panels, most of them are exported, thanks to the subsidies offered in the developed world. \n",
      "\n",
      "\n",
      "Date: 2020-11-24 \n",
      "Title: “We need more than green venture capital to decarbonise the economy”—but it will surely help \n",
      "About: THE BOOM-AND-BUST of environmental-technology investing has settled out, and money is flooding in—both individual and institutional. We examine the green fields that lie ahead. Many Arab countries have long been suffering an exodus of medical professionals—a problem only magnified by the pandemic. And a reflection on the life of Jonathan Sacks, a tirelessly unifying British rabbi. Runtime: 22 min \n",
      "\n",
      "DONE!\n"
     ]
    }
   ],
   "source": [
    "def extract_html_content(target_url):\n",
    "    response = requests.get(target_url)\n",
    "    return response.text\n",
    "\n",
    "topic = input(\"Topic: \")\n",
    "pages = int(input(\"How many pages do you want to scrape (1-10): \"))\n",
    "\n",
    "nltk.download('punkt')\n",
    "\n",
    "X = ['Date', 'Title', 'About', 'Key Points', 'Whole Text', 'URL']\n",
    "\n",
    "df = pd.DataFrame(columns=X)\n",
    "\n",
    "for i in range(1,pages+1):\n",
    "    url = 'https://www.economist.com/search?q=' + (\"+\".join(topic.split(\" \"))) + \"&page=\" + str(i)\n",
    "    html_content = extract_html_content(url)\n",
    "    soup = bs4.BeautifulSoup(html_content, 'html.parser')\n",
    "    aTags = soup.find_all(\"a\", class_=\"_search-result\")\n",
    "    links = []\n",
    "    for i in aTags:\n",
    "        links.append(i.get('href'))\n",
    "    for link in links:\n",
    "        article = Article(link)\n",
    "        article.download()\n",
    "        article.parse()\n",
    "        article.nlp()\n",
    "        if \"audio\" in article.text.split(\"\\n\\n\")[1]:\n",
    "            continue\n",
    "        try:\n",
    "            print(\"\\nDate:\", article.publish_date.date(), \"\\nTitle:\", article.title, \"\\nAbout:\", article.text.split(\"\\n\\n\")[1], \"\\n\")\n",
    "            df.loc[len(df)] = [article.publish_date.date(), article.title, article.text.split(\"\\n\\n\")[1], article.summary, article.text, link]\n",
    "        except:\n",
    "            continue     \n",
    "\n",
    "df.to_csv(\"Processed Topics\\{}.csv\".format(topic))\n",
    "\n",
    "print(\"DONE!\")"
   ]
  },
  {
   "cell_type": "code",
   "execution_count": null,
   "metadata": {},
   "outputs": [],
   "source": []
  },
  {
   "cell_type": "code",
   "execution_count": null,
   "metadata": {},
   "outputs": [],
   "source": []
  }
 ],
 "metadata": {
  "kernelspec": {
   "display_name": "Python 3",
   "language": "python",
   "name": "python3"
  },
  "language_info": {
   "codemirror_mode": {
    "name": "ipython",
    "version": 3
   },
   "file_extension": ".py",
   "mimetype": "text/x-python",
   "name": "python",
   "nbconvert_exporter": "python",
   "pygments_lexer": "ipython3",
   "version": "3.7.6"
  }
 },
 "nbformat": 4,
 "nbformat_minor": 4
}

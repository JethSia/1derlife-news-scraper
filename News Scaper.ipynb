{
 "cells": [
  {
   "cell_type": "markdown",
   "metadata": {},
   "source": [
    "# News Scraper for The Economist"
   ]
  },
  {
   "cell_type": "code",
   "execution_count": 1,
   "metadata": {},
   "outputs": [],
   "source": [
    "while 1: \n",
    "    try:\n",
    "        import nltk\n",
    "        from newspaper import Article\n",
    "        import requests\n",
    "        import bs4\n",
    "        from datetime import date\n",
    "        import pandas as pd\n",
    "        break\n",
    "    except:\n",
    "        !pip install newspaper3k"
   ]
  },
  {
   "cell_type": "code",
   "execution_count": 4,
   "metadata": {
    "scrolled": true
   },
   "outputs": [
    {
     "name": "stdout",
     "output_type": "stream",
     "text": [
      "Topic: green technology\n",
      "How many pages do you want to scrape (1-10): 1\n"
     ]
    },
    {
     "name": "stderr",
     "output_type": "stream",
     "text": [
      "[nltk_data] Downloading package punkt to C:\\Users\\Jeth\n",
      "[nltk_data]     Sia\\AppData\\Roaming\\nltk_data...\n",
      "[nltk_data]   Package punkt is already up-to-date!\n"
     ]
    },
    {
     "name": "stdout",
     "output_type": "stream",
     "text": [
      "\n",
      "Date: 2020-11-17 \n",
      "Title: Tech must help combat climate change, says Sundar Pichai \n",
      "About: First, as science tells us that we have a decade to reduce emissions dramatically or face the worst impacts of climate change, many of those impacts have already arrived at our door. From the historic and deadly wildfires in Australia and California, to severe flooding around the world, there is no denying that climate change is already disrupting our daily lives. At the same time, support for climate action has never been stronger—from Generation Z’s solutions-oriented mindset, to political support that increasingly crosses party lines, to Europe’s large-scale ambition to become the first ­carbon-neutral continent, society is ever more unified against the threat of climate change. \n",
      "\n",
      "\n",
      "Date: 2010-03-13 \n",
      "Title: The green machine \n",
      "About: THE Roding Roadster, a sports car unveiled at last September's Frankfurt motor show, has a powerful motor and lightweight construction that promise a thrilling ride. But at Munich's Technical University (TUM), which the Roding's designers attended, there is even more buzz about the Tesla, a battery-powered car from California. It shows that electro-mobility “could be fast and fun”, says Markus Lienkamp, who teaches car technology at TUM. Annoyingly, Tesla opened a dealership in Munich on BMW's doorstep. \n",
      "\n",
      "\n",
      "Date: 2009-11-13 \n",
      "Title: Asia's green-tech rivals \n",
      "About: The battle lines are being drawn in Asia over green technologies, as governments adapt their tradition of state influence on industry for an era in which eco-friendly products may spell export success. In China, Japan, South Korea and elsewhere, a big portion of fiscal-stimulus measures is dedicated to green projects. It is seen as a way to create new jobs, cut carbon emissions at home—and sell products abroad. \n",
      "\n",
      "\n",
      "Date: 2018-03-15 \n",
      "Title: China is rapidly developing its clean-energy technology \n",
      "About: WHEN IT COMES to energy, no country generates such bittersweet superlatives as China. It is the world’s largest consumer of coal and the second-largest of oil, after America. It has the largest power-generation capacity, by a wide margin. It also produces more carbon dioxide than any other country. \n",
      "\n",
      "\n",
      "Date: 2011-03-12 \n",
      "Title: Betting on green \n",
      "About: Mr Khosla has a different plan to save the planet. He is investing over $1 billion of his clients' money in “black swans”—ideas with the potential for sudden jumps in technology that promise huge environmental benefits, easy scalability and rapid payback. The catch? Mr Khosla expects nine out of ten of his investments to fail. \n",
      "\n",
      "\n",
      "Date: 2014-03-08 \n",
      "Title: Red light, green light \n",
      "About: The timing could not have been better, then, for the launch of a firm devoted to the manufacture of greener engines. The same day EcoMotors, a startup backed by Bill Gates and Khosla Ventures (supported by Vinod Khosla, a Californian venture capitalist), unveiled its joint venture with a division of China FAW Group, a local carmaker. The Chinese partner vowed to spend more than $200m on a factory in Shanxi, a northern province, that will produce 100,000 of the new engines a year. \n",
      "\n",
      "\n",
      "Date: 2008-12-06 \n",
      "Title: Masdar plan \n",
      "About: What is more, Abu Dhabi, the biggest of the country's seven princely city-states, has a huge vested interest in the continued domination of the world economy by fossil fuels. It sits atop some 8% of the world's proven reserves of oil. At current rates of extraction, the oil will last for another 92 years. So it is with some scepticism that the world has greeted Abu Dhabi's plans to reinvent itself as a crucible of greenery. \n",
      "\n",
      "DONE!\n"
     ]
    }
   ],
   "source": [
    "topic = input(\"Topic: \")\n",
    "pages = int(input(\"How many pages do you want to scrape (1-10): \"))\n",
    "\n",
    "nltk.download('punkt')\n",
    "\n",
    "X = ['Date', 'Title', 'About', 'Key Points', 'Whole Text', 'URL']\n",
    "\n",
    "df = pd.DataFrame(columns=X)\n",
    "\n",
    "for i in range(1,pages+1):\n",
    "    url = 'https://www.economist.com/search?q=' + (\"+\".join(topic.split(\" \"))) + \"&page=\" + str(i)\n",
    "    html_content = requests.get(url).text\n",
    "    soup = bs4.BeautifulSoup(html_content, 'html.parser')\n",
    "    aTags = soup.find_all(\"a\", class_=\"_search-result\")\n",
    "    links = []\n",
    "    for i in aTags:\n",
    "        links.append(i.get('href'))\n",
    "    for link in links:\n",
    "        article = Article(link)\n",
    "        article.download()\n",
    "        article.parse()\n",
    "        article.nlp()\n",
    "        try:\n",
    "            if \"audio\" in article.text.split(\"\\n\\n\")[1]: continue\n",
    "            print(\"\\nDate:\", article.publish_date.date(), \"\\nTitle:\", article.title, \"\\nAbout:\", article.text.split(\"\\n\\n\")[1], \"\\n\")\n",
    "            df.loc[len(df)] = [article.publish_date.date(), article.title, article.text.split(\"\\n\\n\")[1], article.summary, article.text, link]\n",
    "        except:\n",
    "            continue     \n",
    "\n",
    "try:\n",
    "    df.to_csv(\"Processed Topics\\{}.csv\".format(topic))\n",
    "\n",
    "print(\"DONE!\")"
   ]
  },
  {
   "cell_type": "code",
   "execution_count": null,
   "metadata": {},
   "outputs": [],
   "source": []
  }
 ],
 "metadata": {
  "kernelspec": {
   "display_name": "Python 3",
   "language": "python",
   "name": "python3"
  },
  "language_info": {
   "codemirror_mode": {
    "name": "ipython",
    "version": 3
   },
   "file_extension": ".py",
   "mimetype": "text/x-python",
   "name": "python",
   "nbconvert_exporter": "python",
   "pygments_lexer": "ipython3",
   "version": "3.7.6"
  }
 },
 "nbformat": 4,
 "nbformat_minor": 4
}
